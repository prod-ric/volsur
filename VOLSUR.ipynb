{
 "cells": [
  {
   "cell_type": "code",
   "execution_count": 4,
   "metadata": {},
   "outputs": [
    {
     "name": "stdout",
     "output_type": "stream",
     "text": [
      "Defaulting to user installation because normal site-packages is not writeable\n",
      "Requirement already satisfied: numpy in c:\\users\\riccardopansini\\appdata\\local\\packages\\pythonsoftwarefoundation.python.3.13_qbz5n2kfra8p0\\localcache\\local-packages\\python313\\site-packages (2.2.0)\n",
      "Requirement already satisfied: pandas in c:\\users\\riccardopansini\\appdata\\local\\packages\\pythonsoftwarefoundation.python.3.13_qbz5n2kfra8p0\\localcache\\local-packages\\python313\\site-packages (2.2.3)\n",
      "Requirement already satisfied: plotly in c:\\users\\riccardopansini\\appdata\\local\\packages\\pythonsoftwarefoundation.python.3.13_qbz5n2kfra8p0\\localcache\\local-packages\\python313\\site-packages (5.24.1)\n",
      "Collecting ipywidgets\n",
      "  Downloading ipywidgets-8.1.5-py3-none-any.whl.metadata (2.3 kB)\n",
      "Requirement already satisfied: python-dateutil>=2.8.2 in c:\\users\\riccardopansini\\appdata\\local\\packages\\pythonsoftwarefoundation.python.3.13_qbz5n2kfra8p0\\localcache\\local-packages\\python313\\site-packages (from pandas) (2.9.0.post0)\n",
      "Requirement already satisfied: pytz>=2020.1 in c:\\users\\riccardopansini\\appdata\\local\\packages\\pythonsoftwarefoundation.python.3.13_qbz5n2kfra8p0\\localcache\\local-packages\\python313\\site-packages (from pandas) (2024.2)\n",
      "Requirement already satisfied: tzdata>=2022.7 in c:\\users\\riccardopansini\\appdata\\local\\packages\\pythonsoftwarefoundation.python.3.13_qbz5n2kfra8p0\\localcache\\local-packages\\python313\\site-packages (from pandas) (2024.2)\n",
      "Requirement already satisfied: tenacity>=6.2.0 in c:\\users\\riccardopansini\\appdata\\local\\packages\\pythonsoftwarefoundation.python.3.13_qbz5n2kfra8p0\\localcache\\local-packages\\python313\\site-packages (from plotly) (9.0.0)\n",
      "Requirement already satisfied: packaging in c:\\users\\riccardopansini\\appdata\\local\\packages\\pythonsoftwarefoundation.python.3.13_qbz5n2kfra8p0\\localcache\\local-packages\\python313\\site-packages (from plotly) (24.2)\n",
      "Requirement already satisfied: comm>=0.1.3 in c:\\users\\riccardopansini\\appdata\\local\\packages\\pythonsoftwarefoundation.python.3.13_qbz5n2kfra8p0\\localcache\\local-packages\\python313\\site-packages (from ipywidgets) (0.2.2)\n",
      "Requirement already satisfied: ipython>=6.1.0 in c:\\users\\riccardopansini\\appdata\\local\\packages\\pythonsoftwarefoundation.python.3.13_qbz5n2kfra8p0\\localcache\\local-packages\\python313\\site-packages (from ipywidgets) (8.31.0)\n",
      "Requirement already satisfied: traitlets>=4.3.1 in c:\\users\\riccardopansini\\appdata\\local\\packages\\pythonsoftwarefoundation.python.3.13_qbz5n2kfra8p0\\localcache\\local-packages\\python313\\site-packages (from ipywidgets) (5.14.3)\n",
      "Collecting widgetsnbextension~=4.0.12 (from ipywidgets)\n",
      "  Downloading widgetsnbextension-4.0.13-py3-none-any.whl.metadata (1.6 kB)\n",
      "Collecting jupyterlab-widgets~=3.0.12 (from ipywidgets)\n",
      "  Downloading jupyterlab_widgets-3.0.13-py3-none-any.whl.metadata (4.1 kB)\n",
      "Requirement already satisfied: colorama in c:\\users\\riccardopansini\\appdata\\local\\packages\\pythonsoftwarefoundation.python.3.13_qbz5n2kfra8p0\\localcache\\local-packages\\python313\\site-packages (from ipython>=6.1.0->ipywidgets) (0.4.6)\n",
      "Requirement already satisfied: decorator in c:\\users\\riccardopansini\\appdata\\local\\packages\\pythonsoftwarefoundation.python.3.13_qbz5n2kfra8p0\\localcache\\local-packages\\python313\\site-packages (from ipython>=6.1.0->ipywidgets) (5.1.1)\n",
      "Requirement already satisfied: jedi>=0.16 in c:\\users\\riccardopansini\\appdata\\local\\packages\\pythonsoftwarefoundation.python.3.13_qbz5n2kfra8p0\\localcache\\local-packages\\python313\\site-packages (from ipython>=6.1.0->ipywidgets) (0.19.2)\n",
      "Requirement already satisfied: matplotlib-inline in c:\\users\\riccardopansini\\appdata\\local\\packages\\pythonsoftwarefoundation.python.3.13_qbz5n2kfra8p0\\localcache\\local-packages\\python313\\site-packages (from ipython>=6.1.0->ipywidgets) (0.1.7)\n",
      "Requirement already satisfied: prompt_toolkit<3.1.0,>=3.0.41 in c:\\users\\riccardopansini\\appdata\\local\\packages\\pythonsoftwarefoundation.python.3.13_qbz5n2kfra8p0\\localcache\\local-packages\\python313\\site-packages (from ipython>=6.1.0->ipywidgets) (3.0.48)\n",
      "Requirement already satisfied: pygments>=2.4.0 in c:\\users\\riccardopansini\\appdata\\local\\packages\\pythonsoftwarefoundation.python.3.13_qbz5n2kfra8p0\\localcache\\local-packages\\python313\\site-packages (from ipython>=6.1.0->ipywidgets) (2.19.1)\n",
      "Requirement already satisfied: stack_data in c:\\users\\riccardopansini\\appdata\\local\\packages\\pythonsoftwarefoundation.python.3.13_qbz5n2kfra8p0\\localcache\\local-packages\\python313\\site-packages (from ipython>=6.1.0->ipywidgets) (0.6.3)\n",
      "Requirement already satisfied: six>=1.5 in c:\\users\\riccardopansini\\appdata\\local\\packages\\pythonsoftwarefoundation.python.3.13_qbz5n2kfra8p0\\localcache\\local-packages\\python313\\site-packages (from python-dateutil>=2.8.2->pandas) (1.17.0)\n",
      "Requirement already satisfied: parso<0.9.0,>=0.8.4 in c:\\users\\riccardopansini\\appdata\\local\\packages\\pythonsoftwarefoundation.python.3.13_qbz5n2kfra8p0\\localcache\\local-packages\\python313\\site-packages (from jedi>=0.16->ipython>=6.1.0->ipywidgets) (0.8.4)\n",
      "Requirement already satisfied: wcwidth in c:\\users\\riccardopansini\\appdata\\local\\packages\\pythonsoftwarefoundation.python.3.13_qbz5n2kfra8p0\\localcache\\local-packages\\python313\\site-packages (from prompt_toolkit<3.1.0,>=3.0.41->ipython>=6.1.0->ipywidgets) (0.2.13)\n",
      "Requirement already satisfied: executing>=1.2.0 in c:\\users\\riccardopansini\\appdata\\local\\packages\\pythonsoftwarefoundation.python.3.13_qbz5n2kfra8p0\\localcache\\local-packages\\python313\\site-packages (from stack_data->ipython>=6.1.0->ipywidgets) (2.1.0)\n",
      "Requirement already satisfied: asttokens>=2.1.0 in c:\\users\\riccardopansini\\appdata\\local\\packages\\pythonsoftwarefoundation.python.3.13_qbz5n2kfra8p0\\localcache\\local-packages\\python313\\site-packages (from stack_data->ipython>=6.1.0->ipywidgets) (3.0.0)\n",
      "Requirement already satisfied: pure-eval in c:\\users\\riccardopansini\\appdata\\local\\packages\\pythonsoftwarefoundation.python.3.13_qbz5n2kfra8p0\\localcache\\local-packages\\python313\\site-packages (from stack_data->ipython>=6.1.0->ipywidgets) (0.2.3)\n",
      "Downloading ipywidgets-8.1.5-py3-none-any.whl (139 kB)\n",
      "Downloading jupyterlab_widgets-3.0.13-py3-none-any.whl (214 kB)\n",
      "Downloading widgetsnbextension-4.0.13-py3-none-any.whl (2.3 MB)\n",
      "   ---------------------------------------- 0.0/2.3 MB ? eta -:--:--\n",
      "   ----------------------------------- ---- 2.1/2.3 MB 11.9 MB/s eta 0:00:01\n",
      "   ---------------------------------------- 2.3/2.3 MB 7.1 MB/s eta 0:00:00\n",
      "Installing collected packages: widgetsnbextension, jupyterlab-widgets, ipywidgets\n",
      "Successfully installed ipywidgets-8.1.5 jupyterlab-widgets-3.0.13 widgetsnbextension-4.0.13\n"
     ]
    }
   ],
   "source": [
    "!pip3 install numpy pandas plotly ipywidgets"
   ]
  },
  {
   "cell_type": "code",
   "execution_count": 7,
   "metadata": {},
   "outputs": [
    {
     "name": "stderr",
     "output_type": "stream",
     "text": [
      "usage: jupyter [-h] [--version] [--config-dir] [--data-dir] [--runtime-dir]\n",
      "               [--paths] [--json] [--debug]\n",
      "               [subcommand]\n",
      "\n",
      "Jupyter: Interactive Computing\n",
      "\n",
      "positional arguments:\n",
      "  subcommand     the subcommand to launch\n",
      "\n",
      "options:\n",
      "  -h, --help     show this help message and exit\n",
      "  --version      show the versions of core jupyter packages and exit\n",
      "  --config-dir   show Jupyter config dir\n",
      "  --data-dir     show Jupyter data dir\n",
      "  --runtime-dir  show Jupyter runtime dir\n",
      "  --paths        show all Jupyter paths. Add --json for machine-readable\n",
      "                 format.\n",
      "  --json         output paths as machine-readable json\n",
      "  --debug        output debug information about paths\n",
      "\n",
      "Available subcommands: kernel kernelspec migrate run troubleshoot\n",
      "\n",
      "Jupyter command `jupyter-nbextension` not found.\n",
      "usage: jupyter [-h] [--version] [--config-dir] [--data-dir] [--runtime-dir]\n",
      "               [--paths] [--json] [--debug]\n",
      "               [subcommand]\n",
      "\n",
      "Jupyter: Interactive Computing\n",
      "\n",
      "positional arguments:\n",
      "  subcommand     the subcommand to launch\n",
      "\n",
      "options:\n",
      "  -h, --help     show this help message and exit\n",
      "  --version      show the versions of core jupyter packages and exit\n",
      "  --config-dir   show Jupyter config dir\n",
      "  --data-dir     show Jupyter data dir\n",
      "  --runtime-dir  show Jupyter runtime dir\n",
      "  --paths        show all Jupyter paths. Add --json for machine-readable\n",
      "                 format.\n",
      "  --json         output paths as machine-readable json\n",
      "  --debug        output debug information about paths\n",
      "\n",
      "Available subcommands: kernel kernelspec migrate run troubleshoot\n",
      "\n",
      "Jupyter command `jupyter-labextension` not found.\n"
     ]
    }
   ],
   "source": [
    "!jupyter nbextension enable --py widgetsnbextension\n",
    "!jupyter labextension install @jupyter-widgets/jupyterlab-manager"
   ]
  },
  {
   "cell_type": "code",
   "execution_count": 1,
   "metadata": {},
   "outputs": [
    {
     "data": {
      "application/vnd.plotly.v1+json": {
       "config": {
        "plotlyServerURL": "https://plot.ly"
       },
       "data": [
        {
         "type": "surface",
         "x": [
          [
           0.08333333333333333,
           0.2962962962962963,
           0.5092592592592593,
           0.7222222222222222,
           0.9351851851851852,
           1.1481481481481481,
           1.361111111111111,
           1.574074074074074,
           1.787037037037037,
           2
          ],
          [
           0.08333333333333333,
           0.2962962962962963,
           0.5092592592592593,
           0.7222222222222222,
           0.9351851851851852,
           1.1481481481481481,
           1.361111111111111,
           1.574074074074074,
           1.787037037037037,
           2
          ],
          [
           0.08333333333333333,
           0.2962962962962963,
           0.5092592592592593,
           0.7222222222222222,
           0.9351851851851852,
           1.1481481481481481,
           1.361111111111111,
           1.574074074074074,
           1.787037037037037,
           2
          ],
          [
           0.08333333333333333,
           0.2962962962962963,
           0.5092592592592593,
           0.7222222222222222,
           0.9351851851851852,
           1.1481481481481481,
           1.361111111111111,
           1.574074074074074,
           1.787037037037037,
           2
          ],
          [
           0.08333333333333333,
           0.2962962962962963,
           0.5092592592592593,
           0.7222222222222222,
           0.9351851851851852,
           1.1481481481481481,
           1.361111111111111,
           1.574074074074074,
           1.787037037037037,
           2
          ],
          [
           0.08333333333333333,
           0.2962962962962963,
           0.5092592592592593,
           0.7222222222222222,
           0.9351851851851852,
           1.1481481481481481,
           1.361111111111111,
           1.574074074074074,
           1.787037037037037,
           2
          ],
          [
           0.08333333333333333,
           0.2962962962962963,
           0.5092592592592593,
           0.7222222222222222,
           0.9351851851851852,
           1.1481481481481481,
           1.361111111111111,
           1.574074074074074,
           1.787037037037037,
           2
          ],
          [
           0.08333333333333333,
           0.2962962962962963,
           0.5092592592592593,
           0.7222222222222222,
           0.9351851851851852,
           1.1481481481481481,
           1.361111111111111,
           1.574074074074074,
           1.787037037037037,
           2
          ],
          [
           0.08333333333333333,
           0.2962962962962963,
           0.5092592592592593,
           0.7222222222222222,
           0.9351851851851852,
           1.1481481481481481,
           1.361111111111111,
           1.574074074074074,
           1.787037037037037,
           2
          ],
          [
           0.08333333333333333,
           0.2962962962962963,
           0.5092592592592593,
           0.7222222222222222,
           0.9351851851851852,
           1.1481481481481481,
           1.361111111111111,
           1.574074074074074,
           1.787037037037037,
           2
          ],
          [
           0.08333333333333333,
           0.2962962962962963,
           0.5092592592592593,
           0.7222222222222222,
           0.9351851851851852,
           1.1481481481481481,
           1.361111111111111,
           1.574074074074074,
           1.787037037037037,
           2
          ],
          [
           0.08333333333333333,
           0.2962962962962963,
           0.5092592592592593,
           0.7222222222222222,
           0.9351851851851852,
           1.1481481481481481,
           1.361111111111111,
           1.574074074074074,
           1.787037037037037,
           2
          ],
          [
           0.08333333333333333,
           0.2962962962962963,
           0.5092592592592593,
           0.7222222222222222,
           0.9351851851851852,
           1.1481481481481481,
           1.361111111111111,
           1.574074074074074,
           1.787037037037037,
           2
          ],
          [
           0.08333333333333333,
           0.2962962962962963,
           0.5092592592592593,
           0.7222222222222222,
           0.9351851851851852,
           1.1481481481481481,
           1.361111111111111,
           1.574074074074074,
           1.787037037037037,
           2
          ],
          [
           0.08333333333333333,
           0.2962962962962963,
           0.5092592592592593,
           0.7222222222222222,
           0.9351851851851852,
           1.1481481481481481,
           1.361111111111111,
           1.574074074074074,
           1.787037037037037,
           2
          ],
          [
           0.08333333333333333,
           0.2962962962962963,
           0.5092592592592593,
           0.7222222222222222,
           0.9351851851851852,
           1.1481481481481481,
           1.361111111111111,
           1.574074074074074,
           1.787037037037037,
           2
          ],
          [
           0.08333333333333333,
           0.2962962962962963,
           0.5092592592592593,
           0.7222222222222222,
           0.9351851851851852,
           1.1481481481481481,
           1.361111111111111,
           1.574074074074074,
           1.787037037037037,
           2
          ],
          [
           0.08333333333333333,
           0.2962962962962963,
           0.5092592592592593,
           0.7222222222222222,
           0.9351851851851852,
           1.1481481481481481,
           1.361111111111111,
           1.574074074074074,
           1.787037037037037,
           2
          ],
          [
           0.08333333333333333,
           0.2962962962962963,
           0.5092592592592593,
           0.7222222222222222,
           0.9351851851851852,
           1.1481481481481481,
           1.361111111111111,
           1.574074074074074,
           1.787037037037037,
           2
          ],
          [
           0.08333333333333333,
           0.2962962962962963,
           0.5092592592592593,
           0.7222222222222222,
           0.9351851851851852,
           1.1481481481481481,
           1.361111111111111,
           1.574074074074074,
           1.787037037037037,
           2
          ]
         ],
         "y": [
          [
           70,
           70,
           70,
           70,
           70,
           70,
           70,
           70,
           70,
           70
          ],
          [
           73.15789473684211,
           73.15789473684211,
           73.15789473684211,
           73.15789473684211,
           73.15789473684211,
           73.15789473684211,
           73.15789473684211,
           73.15789473684211,
           73.15789473684211,
           73.15789473684211
          ],
          [
           76.3157894736842,
           76.3157894736842,
           76.3157894736842,
           76.3157894736842,
           76.3157894736842,
           76.3157894736842,
           76.3157894736842,
           76.3157894736842,
           76.3157894736842,
           76.3157894736842
          ],
          [
           79.47368421052632,
           79.47368421052632,
           79.47368421052632,
           79.47368421052632,
           79.47368421052632,
           79.47368421052632,
           79.47368421052632,
           79.47368421052632,
           79.47368421052632,
           79.47368421052632
          ],
          [
           82.63157894736842,
           82.63157894736842,
           82.63157894736842,
           82.63157894736842,
           82.63157894736842,
           82.63157894736842,
           82.63157894736842,
           82.63157894736842,
           82.63157894736842,
           82.63157894736842
          ],
          [
           85.78947368421052,
           85.78947368421052,
           85.78947368421052,
           85.78947368421052,
           85.78947368421052,
           85.78947368421052,
           85.78947368421052,
           85.78947368421052,
           85.78947368421052,
           85.78947368421052
          ],
          [
           88.94736842105263,
           88.94736842105263,
           88.94736842105263,
           88.94736842105263,
           88.94736842105263,
           88.94736842105263,
           88.94736842105263,
           88.94736842105263,
           88.94736842105263,
           88.94736842105263
          ],
          [
           92.10526315789474,
           92.10526315789474,
           92.10526315789474,
           92.10526315789474,
           92.10526315789474,
           92.10526315789474,
           92.10526315789474,
           92.10526315789474,
           92.10526315789474,
           92.10526315789474
          ],
          [
           95.26315789473685,
           95.26315789473685,
           95.26315789473685,
           95.26315789473685,
           95.26315789473685,
           95.26315789473685,
           95.26315789473685,
           95.26315789473685,
           95.26315789473685,
           95.26315789473685
          ],
          [
           98.42105263157895,
           98.42105263157895,
           98.42105263157895,
           98.42105263157895,
           98.42105263157895,
           98.42105263157895,
           98.42105263157895,
           98.42105263157895,
           98.42105263157895,
           98.42105263157895
          ],
          [
           101.57894736842105,
           101.57894736842105,
           101.57894736842105,
           101.57894736842105,
           101.57894736842105,
           101.57894736842105,
           101.57894736842105,
           101.57894736842105,
           101.57894736842105,
           101.57894736842105
          ],
          [
           104.73684210526315,
           104.73684210526315,
           104.73684210526315,
           104.73684210526315,
           104.73684210526315,
           104.73684210526315,
           104.73684210526315,
           104.73684210526315,
           104.73684210526315,
           104.73684210526315
          ],
          [
           107.89473684210526,
           107.89473684210526,
           107.89473684210526,
           107.89473684210526,
           107.89473684210526,
           107.89473684210526,
           107.89473684210526,
           107.89473684210526,
           107.89473684210526,
           107.89473684210526
          ],
          [
           111.05263157894737,
           111.05263157894737,
           111.05263157894737,
           111.05263157894737,
           111.05263157894737,
           111.05263157894737,
           111.05263157894737,
           111.05263157894737,
           111.05263157894737,
           111.05263157894737
          ],
          [
           114.21052631578948,
           114.21052631578948,
           114.21052631578948,
           114.21052631578948,
           114.21052631578948,
           114.21052631578948,
           114.21052631578948,
           114.21052631578948,
           114.21052631578948,
           114.21052631578948
          ],
          [
           117.36842105263159,
           117.36842105263159,
           117.36842105263159,
           117.36842105263159,
           117.36842105263159,
           117.36842105263159,
           117.36842105263159,
           117.36842105263159,
           117.36842105263159,
           117.36842105263159
          ],
          [
           120.52631578947368,
           120.52631578947368,
           120.52631578947368,
           120.52631578947368,
           120.52631578947368,
           120.52631578947368,
           120.52631578947368,
           120.52631578947368,
           120.52631578947368,
           120.52631578947368
          ],
          [
           123.68421052631578,
           123.68421052631578,
           123.68421052631578,
           123.68421052631578,
           123.68421052631578,
           123.68421052631578,
           123.68421052631578,
           123.68421052631578,
           123.68421052631578,
           123.68421052631578
          ],
          [
           126.84210526315789,
           126.84210526315789,
           126.84210526315789,
           126.84210526315789,
           126.84210526315789,
           126.84210526315789,
           126.84210526315789,
           126.84210526315789,
           126.84210526315789,
           126.84210526315789
          ],
          [
           130,
           130,
           130,
           130,
           130,
           130,
           130,
           130,
           130,
           130
          ]
         ],
         "z": [
          [
           0.18205017496336567,
           0.19761080345646442,
           0.2094608327552462,
           0.21903353477310758,
           0.22706469448975136,
           0.2339826161583933,
           0.24005868404674283,
           0.24547574123654103,
           0.2503628554751879,
           0.2548145365937078
          ],
          [
           0.18025516111295015,
           0.1958157896060489,
           0.20766581890483068,
           0.21723852092269205,
           0.22526968063933583,
           0.23218760230797778,
           0.2382636701963273,
           0.2436807273861255,
           0.24856784162477236,
           0.25301952274329226
          ],
          [
           0.17865959324591416,
           0.1942202217390129,
           0.2060702510377947,
           0.21564295305565606,
           0.22367411277229984,
           0.23059203444094178,
           0.2366681023292913,
           0.24208515951908952,
           0.2469722737577364,
           0.25142395487625624
          ],
          [
           0.17726347136225762,
           0.19282409985535637,
           0.20467412915413816,
           0.21424683117199952,
           0.2222779908886433,
           0.22919591255728525,
           0.23527198044563477,
           0.24068903763543298,
           0.24557615187407983,
           0.25002783299259973
          ],
          [
           0.17606679546198062,
           0.19162742395507937,
           0.20347745325386116,
           0.21305015527172252,
           0.2210813149883663,
           0.22799923665700825,
           0.23407530454535777,
           0.23949236173515598,
           0.24437947597380283,
           0.24883115709232273
          ],
          [
           0.17506956554508313,
           0.19063019403818188,
           0.20248022333696367,
           0.21205292535482503,
           0.22008408507146882,
           0.22700200674011076,
           0.23307807462846028,
           0.2384951318182585,
           0.24338224605690534,
           0.24783392717542524
          ],
          [
           0.17427178161156512,
           0.18983241010466387,
           0.20168243940344566,
           0.21125514142130702,
           0.2192863011379508,
           0.22620422280659275,
           0.23228029069494227,
           0.23769734788474048,
           0.24258446212338736,
           0.24703614324190723
          ],
          [
           0.17367344366142662,
           0.18923407215452537,
           0.20108410145330716,
           0.21065680347116852,
           0.2186879631878123,
           0.22560588485645425,
           0.23168195274480377,
           0.23709900993460198,
           0.24198612417324883,
           0.24643780529176873
          ],
          [
           0.1732745516946676,
           0.18883518018776635,
           0.20068520948654814,
           0.2102579115044095,
           0.2182890712210533,
           0.22520699288969523,
           0.23128306077804475,
           0.23670011796784296,
           0.2415872322064898,
           0.2460389133250097
          ],
          [
           0.1730751057112881,
           0.18863573420438684,
           0.20048576350316863,
           0.21005846552103,
           0.21808962523767378,
           0.22500754690631572,
           0.23108361479466524,
           0.23650067198446345,
           0.2413877862231103,
           0.2458394673416302
          ],
          [
           0.1730751057112881,
           0.18863573420438684,
           0.20048576350316863,
           0.21005846552103,
           0.21808962523767378,
           0.22500754690631572,
           0.23108361479466524,
           0.23650067198446345,
           0.2413877862231103,
           0.2458394673416302
          ],
          [
           0.1732745516946676,
           0.18883518018776635,
           0.20068520948654814,
           0.2102579115044095,
           0.2182890712210533,
           0.22520699288969523,
           0.23128306077804475,
           0.23670011796784296,
           0.2415872322064898,
           0.2460389133250097
          ],
          [
           0.17367344366142662,
           0.18923407215452537,
           0.20108410145330716,
           0.21065680347116852,
           0.2186879631878123,
           0.22560588485645425,
           0.23168195274480377,
           0.23709900993460198,
           0.24198612417324883,
           0.24643780529176873
          ],
          [
           0.17427178161156512,
           0.18983241010466387,
           0.20168243940344566,
           0.21125514142130702,
           0.2192863011379508,
           0.22620422280659275,
           0.23228029069494227,
           0.23769734788474048,
           0.24258446212338736,
           0.24703614324190723
          ],
          [
           0.17506956554508313,
           0.19063019403818188,
           0.20248022333696367,
           0.21205292535482503,
           0.22008408507146882,
           0.22700200674011076,
           0.23307807462846028,
           0.2384951318182585,
           0.24338224605690534,
           0.24783392717542524
          ],
          [
           0.17606679546198062,
           0.19162742395507937,
           0.20347745325386116,
           0.21305015527172252,
           0.2210813149883663,
           0.22799923665700825,
           0.23407530454535777,
           0.23949236173515598,
           0.24437947597380283,
           0.24883115709232273
          ],
          [
           0.17726347136225762,
           0.19282409985535637,
           0.20467412915413816,
           0.21424683117199952,
           0.2222779908886433,
           0.22919591255728525,
           0.23527198044563477,
           0.24068903763543298,
           0.24557615187407983,
           0.25002783299259973
          ],
          [
           0.17865959324591413,
           0.19422022173901288,
           0.20607025103779467,
           0.21564295305565603,
           0.22367411277229982,
           0.23059203444094176,
           0.23666810232929128,
           0.2420851595190895,
           0.24697227375773634,
           0.25142395487625624
          ],
          [
           0.18025516111295015,
           0.1958157896060489,
           0.20766581890483068,
           0.21723852092269205,
           0.22526968063933583,
           0.23218760230797778,
           0.2382636701963273,
           0.2436807273861255,
           0.24856784162477236,
           0.25301952274329226
          ],
          [
           0.18205017496336567,
           0.19761080345646442,
           0.2094608327552462,
           0.21903353477310758,
           0.22706469448975136,
           0.2339826161583933,
           0.24005868404674283,
           0.24547574123654103,
           0.2503628554751879,
           0.2548145365937078
          ]
         ]
        }
       ],
       "layout": {
        "height": 800,
        "scene": {
         "xaxis": {
          "title": {
           "text": "Tenor (Years)"
          }
         },
         "yaxis": {
          "title": {
           "text": "Strike"
          }
         },
         "zaxis": {
          "title": {
           "text": "Implied Volatility"
          }
         }
        },
        "template": {
         "data": {
          "bar": [
           {
            "error_x": {
             "color": "#2a3f5f"
            },
            "error_y": {
             "color": "#2a3f5f"
            },
            "marker": {
             "line": {
              "color": "#E5ECF6",
              "width": 0.5
             },
             "pattern": {
              "fillmode": "overlay",
              "size": 10,
              "solidity": 0.2
             }
            },
            "type": "bar"
           }
          ],
          "barpolar": [
           {
            "marker": {
             "line": {
              "color": "#E5ECF6",
              "width": 0.5
             },
             "pattern": {
              "fillmode": "overlay",
              "size": 10,
              "solidity": 0.2
             }
            },
            "type": "barpolar"
           }
          ],
          "carpet": [
           {
            "aaxis": {
             "endlinecolor": "#2a3f5f",
             "gridcolor": "white",
             "linecolor": "white",
             "minorgridcolor": "white",
             "startlinecolor": "#2a3f5f"
            },
            "baxis": {
             "endlinecolor": "#2a3f5f",
             "gridcolor": "white",
             "linecolor": "white",
             "minorgridcolor": "white",
             "startlinecolor": "#2a3f5f"
            },
            "type": "carpet"
           }
          ],
          "choropleth": [
           {
            "colorbar": {
             "outlinewidth": 0,
             "ticks": ""
            },
            "type": "choropleth"
           }
          ],
          "contour": [
           {
            "colorbar": {
             "outlinewidth": 0,
             "ticks": ""
            },
            "colorscale": [
             [
              0,
              "#0d0887"
             ],
             [
              0.1111111111111111,
              "#46039f"
             ],
             [
              0.2222222222222222,
              "#7201a8"
             ],
             [
              0.3333333333333333,
              "#9c179e"
             ],
             [
              0.4444444444444444,
              "#bd3786"
             ],
             [
              0.5555555555555556,
              "#d8576b"
             ],
             [
              0.6666666666666666,
              "#ed7953"
             ],
             [
              0.7777777777777778,
              "#fb9f3a"
             ],
             [
              0.8888888888888888,
              "#fdca26"
             ],
             [
              1,
              "#f0f921"
             ]
            ],
            "type": "contour"
           }
          ],
          "contourcarpet": [
           {
            "colorbar": {
             "outlinewidth": 0,
             "ticks": ""
            },
            "type": "contourcarpet"
           }
          ],
          "heatmap": [
           {
            "colorbar": {
             "outlinewidth": 0,
             "ticks": ""
            },
            "colorscale": [
             [
              0,
              "#0d0887"
             ],
             [
              0.1111111111111111,
              "#46039f"
             ],
             [
              0.2222222222222222,
              "#7201a8"
             ],
             [
              0.3333333333333333,
              "#9c179e"
             ],
             [
              0.4444444444444444,
              "#bd3786"
             ],
             [
              0.5555555555555556,
              "#d8576b"
             ],
             [
              0.6666666666666666,
              "#ed7953"
             ],
             [
              0.7777777777777778,
              "#fb9f3a"
             ],
             [
              0.8888888888888888,
              "#fdca26"
             ],
             [
              1,
              "#f0f921"
             ]
            ],
            "type": "heatmap"
           }
          ],
          "heatmapgl": [
           {
            "colorbar": {
             "outlinewidth": 0,
             "ticks": ""
            },
            "colorscale": [
             [
              0,
              "#0d0887"
             ],
             [
              0.1111111111111111,
              "#46039f"
             ],
             [
              0.2222222222222222,
              "#7201a8"
             ],
             [
              0.3333333333333333,
              "#9c179e"
             ],
             [
              0.4444444444444444,
              "#bd3786"
             ],
             [
              0.5555555555555556,
              "#d8576b"
             ],
             [
              0.6666666666666666,
              "#ed7953"
             ],
             [
              0.7777777777777778,
              "#fb9f3a"
             ],
             [
              0.8888888888888888,
              "#fdca26"
             ],
             [
              1,
              "#f0f921"
             ]
            ],
            "type": "heatmapgl"
           }
          ],
          "histogram": [
           {
            "marker": {
             "pattern": {
              "fillmode": "overlay",
              "size": 10,
              "solidity": 0.2
             }
            },
            "type": "histogram"
           }
          ],
          "histogram2d": [
           {
            "colorbar": {
             "outlinewidth": 0,
             "ticks": ""
            },
            "colorscale": [
             [
              0,
              "#0d0887"
             ],
             [
              0.1111111111111111,
              "#46039f"
             ],
             [
              0.2222222222222222,
              "#7201a8"
             ],
             [
              0.3333333333333333,
              "#9c179e"
             ],
             [
              0.4444444444444444,
              "#bd3786"
             ],
             [
              0.5555555555555556,
              "#d8576b"
             ],
             [
              0.6666666666666666,
              "#ed7953"
             ],
             [
              0.7777777777777778,
              "#fb9f3a"
             ],
             [
              0.8888888888888888,
              "#fdca26"
             ],
             [
              1,
              "#f0f921"
             ]
            ],
            "type": "histogram2d"
           }
          ],
          "histogram2dcontour": [
           {
            "colorbar": {
             "outlinewidth": 0,
             "ticks": ""
            },
            "colorscale": [
             [
              0,
              "#0d0887"
             ],
             [
              0.1111111111111111,
              "#46039f"
             ],
             [
              0.2222222222222222,
              "#7201a8"
             ],
             [
              0.3333333333333333,
              "#9c179e"
             ],
             [
              0.4444444444444444,
              "#bd3786"
             ],
             [
              0.5555555555555556,
              "#d8576b"
             ],
             [
              0.6666666666666666,
              "#ed7953"
             ],
             [
              0.7777777777777778,
              "#fb9f3a"
             ],
             [
              0.8888888888888888,
              "#fdca26"
             ],
             [
              1,
              "#f0f921"
             ]
            ],
            "type": "histogram2dcontour"
           }
          ],
          "mesh3d": [
           {
            "colorbar": {
             "outlinewidth": 0,
             "ticks": ""
            },
            "type": "mesh3d"
           }
          ],
          "parcoords": [
           {
            "line": {
             "colorbar": {
              "outlinewidth": 0,
              "ticks": ""
             }
            },
            "type": "parcoords"
           }
          ],
          "pie": [
           {
            "automargin": true,
            "type": "pie"
           }
          ],
          "scatter": [
           {
            "fillpattern": {
             "fillmode": "overlay",
             "size": 10,
             "solidity": 0.2
            },
            "type": "scatter"
           }
          ],
          "scatter3d": [
           {
            "line": {
             "colorbar": {
              "outlinewidth": 0,
              "ticks": ""
             }
            },
            "marker": {
             "colorbar": {
              "outlinewidth": 0,
              "ticks": ""
             }
            },
            "type": "scatter3d"
           }
          ],
          "scattercarpet": [
           {
            "marker": {
             "colorbar": {
              "outlinewidth": 0,
              "ticks": ""
             }
            },
            "type": "scattercarpet"
           }
          ],
          "scattergeo": [
           {
            "marker": {
             "colorbar": {
              "outlinewidth": 0,
              "ticks": ""
             }
            },
            "type": "scattergeo"
           }
          ],
          "scattergl": [
           {
            "marker": {
             "colorbar": {
              "outlinewidth": 0,
              "ticks": ""
             }
            },
            "type": "scattergl"
           }
          ],
          "scattermapbox": [
           {
            "marker": {
             "colorbar": {
              "outlinewidth": 0,
              "ticks": ""
             }
            },
            "type": "scattermapbox"
           }
          ],
          "scatterpolar": [
           {
            "marker": {
             "colorbar": {
              "outlinewidth": 0,
              "ticks": ""
             }
            },
            "type": "scatterpolar"
           }
          ],
          "scatterpolargl": [
           {
            "marker": {
             "colorbar": {
              "outlinewidth": 0,
              "ticks": ""
             }
            },
            "type": "scatterpolargl"
           }
          ],
          "scatterternary": [
           {
            "marker": {
             "colorbar": {
              "outlinewidth": 0,
              "ticks": ""
             }
            },
            "type": "scatterternary"
           }
          ],
          "surface": [
           {
            "colorbar": {
             "outlinewidth": 0,
             "ticks": ""
            },
            "colorscale": [
             [
              0,
              "#0d0887"
             ],
             [
              0.1111111111111111,
              "#46039f"
             ],
             [
              0.2222222222222222,
              "#7201a8"
             ],
             [
              0.3333333333333333,
              "#9c179e"
             ],
             [
              0.4444444444444444,
              "#bd3786"
             ],
             [
              0.5555555555555556,
              "#d8576b"
             ],
             [
              0.6666666666666666,
              "#ed7953"
             ],
             [
              0.7777777777777778,
              "#fb9f3a"
             ],
             [
              0.8888888888888888,
              "#fdca26"
             ],
             [
              1,
              "#f0f921"
             ]
            ],
            "type": "surface"
           }
          ],
          "table": [
           {
            "cells": {
             "fill": {
              "color": "#EBF0F8"
             },
             "line": {
              "color": "white"
             }
            },
            "header": {
             "fill": {
              "color": "#C8D4E3"
             },
             "line": {
              "color": "white"
             }
            },
            "type": "table"
           }
          ]
         },
         "layout": {
          "annotationdefaults": {
           "arrowcolor": "#2a3f5f",
           "arrowhead": 0,
           "arrowwidth": 1
          },
          "autotypenumbers": "strict",
          "coloraxis": {
           "colorbar": {
            "outlinewidth": 0,
            "ticks": ""
           }
          },
          "colorscale": {
           "diverging": [
            [
             0,
             "#8e0152"
            ],
            [
             0.1,
             "#c51b7d"
            ],
            [
             0.2,
             "#de77ae"
            ],
            [
             0.3,
             "#f1b6da"
            ],
            [
             0.4,
             "#fde0ef"
            ],
            [
             0.5,
             "#f7f7f7"
            ],
            [
             0.6,
             "#e6f5d0"
            ],
            [
             0.7,
             "#b8e186"
            ],
            [
             0.8,
             "#7fbc41"
            ],
            [
             0.9,
             "#4d9221"
            ],
            [
             1,
             "#276419"
            ]
           ],
           "sequential": [
            [
             0,
             "#0d0887"
            ],
            [
             0.1111111111111111,
             "#46039f"
            ],
            [
             0.2222222222222222,
             "#7201a8"
            ],
            [
             0.3333333333333333,
             "#9c179e"
            ],
            [
             0.4444444444444444,
             "#bd3786"
            ],
            [
             0.5555555555555556,
             "#d8576b"
            ],
            [
             0.6666666666666666,
             "#ed7953"
            ],
            [
             0.7777777777777778,
             "#fb9f3a"
            ],
            [
             0.8888888888888888,
             "#fdca26"
            ],
            [
             1,
             "#f0f921"
            ]
           ],
           "sequentialminus": [
            [
             0,
             "#0d0887"
            ],
            [
             0.1111111111111111,
             "#46039f"
            ],
            [
             0.2222222222222222,
             "#7201a8"
            ],
            [
             0.3333333333333333,
             "#9c179e"
            ],
            [
             0.4444444444444444,
             "#bd3786"
            ],
            [
             0.5555555555555556,
             "#d8576b"
            ],
            [
             0.6666666666666666,
             "#ed7953"
            ],
            [
             0.7777777777777778,
             "#fb9f3a"
            ],
            [
             0.8888888888888888,
             "#fdca26"
            ],
            [
             1,
             "#f0f921"
            ]
           ]
          },
          "colorway": [
           "#636efa",
           "#EF553B",
           "#00cc96",
           "#ab63fa",
           "#FFA15A",
           "#19d3f3",
           "#FF6692",
           "#B6E880",
           "#FF97FF",
           "#FECB52"
          ],
          "font": {
           "color": "#2a3f5f"
          },
          "geo": {
           "bgcolor": "white",
           "lakecolor": "white",
           "landcolor": "#E5ECF6",
           "showlakes": true,
           "showland": true,
           "subunitcolor": "white"
          },
          "hoverlabel": {
           "align": "left"
          },
          "hovermode": "closest",
          "mapbox": {
           "style": "light"
          },
          "paper_bgcolor": "white",
          "plot_bgcolor": "#E5ECF6",
          "polar": {
           "angularaxis": {
            "gridcolor": "white",
            "linecolor": "white",
            "ticks": ""
           },
           "bgcolor": "#E5ECF6",
           "radialaxis": {
            "gridcolor": "white",
            "linecolor": "white",
            "ticks": ""
           }
          },
          "scene": {
           "xaxis": {
            "backgroundcolor": "#E5ECF6",
            "gridcolor": "white",
            "gridwidth": 2,
            "linecolor": "white",
            "showbackground": true,
            "ticks": "",
            "zerolinecolor": "white"
           },
           "yaxis": {
            "backgroundcolor": "#E5ECF6",
            "gridcolor": "white",
            "gridwidth": 2,
            "linecolor": "white",
            "showbackground": true,
            "ticks": "",
            "zerolinecolor": "white"
           },
           "zaxis": {
            "backgroundcolor": "#E5ECF6",
            "gridcolor": "white",
            "gridwidth": 2,
            "linecolor": "white",
            "showbackground": true,
            "ticks": "",
            "zerolinecolor": "white"
           }
          },
          "shapedefaults": {
           "line": {
            "color": "#2a3f5f"
           }
          },
          "ternary": {
           "aaxis": {
            "gridcolor": "white",
            "linecolor": "white",
            "ticks": ""
           },
           "baxis": {
            "gridcolor": "white",
            "linecolor": "white",
            "ticks": ""
           },
           "bgcolor": "#E5ECF6",
           "caxis": {
            "gridcolor": "white",
            "linecolor": "white",
            "ticks": ""
           }
          },
          "title": {
           "x": 0.05
          },
          "xaxis": {
           "automargin": true,
           "gridcolor": "white",
           "linecolor": "white",
           "ticks": "",
           "title": {
            "standoff": 15
           },
           "zerolinecolor": "white",
           "zerolinewidth": 2
          },
          "yaxis": {
           "automargin": true,
           "gridcolor": "white",
           "linecolor": "white",
           "ticks": "",
           "title": {
            "standoff": 15
           },
           "zerolinecolor": "white",
           "zerolinewidth": 2
          }
         }
        },
        "title": {
         "text": "Implied Volatility Surface"
        },
        "width": 800
       }
      },
      "text/html": [
       "<div>                        <script type=\"text/javascript\">window.PlotlyConfig = {MathJaxConfig: 'local'};</script>\n",
       "        <script charset=\"utf-8\" src=\"https://cdn.plot.ly/plotly-2.35.2.min.js\"></script>                <div id=\"624564b5-7e23-45b6-a658-85b2f9d08e4a\" class=\"plotly-graph-div\" style=\"height:800px; width:800px;\"></div>            <script type=\"text/javascript\">                                    window.PLOTLYENV=window.PLOTLYENV || {};                                    if (document.getElementById(\"624564b5-7e23-45b6-a658-85b2f9d08e4a\")) {                    Plotly.newPlot(                        \"624564b5-7e23-45b6-a658-85b2f9d08e4a\",                        [{\"x\":[[0.08333333333333333,0.2962962962962963,0.5092592592592593,0.7222222222222222,0.9351851851851852,1.1481481481481481,1.361111111111111,1.574074074074074,1.787037037037037,2.0],[0.08333333333333333,0.2962962962962963,0.5092592592592593,0.7222222222222222,0.9351851851851852,1.1481481481481481,1.361111111111111,1.574074074074074,1.787037037037037,2.0],[0.08333333333333333,0.2962962962962963,0.5092592592592593,0.7222222222222222,0.9351851851851852,1.1481481481481481,1.361111111111111,1.574074074074074,1.787037037037037,2.0],[0.08333333333333333,0.2962962962962963,0.5092592592592593,0.7222222222222222,0.9351851851851852,1.1481481481481481,1.361111111111111,1.574074074074074,1.787037037037037,2.0],[0.08333333333333333,0.2962962962962963,0.5092592592592593,0.7222222222222222,0.9351851851851852,1.1481481481481481,1.361111111111111,1.574074074074074,1.787037037037037,2.0],[0.08333333333333333,0.2962962962962963,0.5092592592592593,0.7222222222222222,0.9351851851851852,1.1481481481481481,1.361111111111111,1.574074074074074,1.787037037037037,2.0],[0.08333333333333333,0.2962962962962963,0.5092592592592593,0.7222222222222222,0.9351851851851852,1.1481481481481481,1.361111111111111,1.574074074074074,1.787037037037037,2.0],[0.08333333333333333,0.2962962962962963,0.5092592592592593,0.7222222222222222,0.9351851851851852,1.1481481481481481,1.361111111111111,1.574074074074074,1.787037037037037,2.0],[0.08333333333333333,0.2962962962962963,0.5092592592592593,0.7222222222222222,0.9351851851851852,1.1481481481481481,1.361111111111111,1.574074074074074,1.787037037037037,2.0],[0.08333333333333333,0.2962962962962963,0.5092592592592593,0.7222222222222222,0.9351851851851852,1.1481481481481481,1.361111111111111,1.574074074074074,1.787037037037037,2.0],[0.08333333333333333,0.2962962962962963,0.5092592592592593,0.7222222222222222,0.9351851851851852,1.1481481481481481,1.361111111111111,1.574074074074074,1.787037037037037,2.0],[0.08333333333333333,0.2962962962962963,0.5092592592592593,0.7222222222222222,0.9351851851851852,1.1481481481481481,1.361111111111111,1.574074074074074,1.787037037037037,2.0],[0.08333333333333333,0.2962962962962963,0.5092592592592593,0.7222222222222222,0.9351851851851852,1.1481481481481481,1.361111111111111,1.574074074074074,1.787037037037037,2.0],[0.08333333333333333,0.2962962962962963,0.5092592592592593,0.7222222222222222,0.9351851851851852,1.1481481481481481,1.361111111111111,1.574074074074074,1.787037037037037,2.0],[0.08333333333333333,0.2962962962962963,0.5092592592592593,0.7222222222222222,0.9351851851851852,1.1481481481481481,1.361111111111111,1.574074074074074,1.787037037037037,2.0],[0.08333333333333333,0.2962962962962963,0.5092592592592593,0.7222222222222222,0.9351851851851852,1.1481481481481481,1.361111111111111,1.574074074074074,1.787037037037037,2.0],[0.08333333333333333,0.2962962962962963,0.5092592592592593,0.7222222222222222,0.9351851851851852,1.1481481481481481,1.361111111111111,1.574074074074074,1.787037037037037,2.0],[0.08333333333333333,0.2962962962962963,0.5092592592592593,0.7222222222222222,0.9351851851851852,1.1481481481481481,1.361111111111111,1.574074074074074,1.787037037037037,2.0],[0.08333333333333333,0.2962962962962963,0.5092592592592593,0.7222222222222222,0.9351851851851852,1.1481481481481481,1.361111111111111,1.574074074074074,1.787037037037037,2.0],[0.08333333333333333,0.2962962962962963,0.5092592592592593,0.7222222222222222,0.9351851851851852,1.1481481481481481,1.361111111111111,1.574074074074074,1.787037037037037,2.0]],\"y\":[[70.0,70.0,70.0,70.0,70.0,70.0,70.0,70.0,70.0,70.0],[73.15789473684211,73.15789473684211,73.15789473684211,73.15789473684211,73.15789473684211,73.15789473684211,73.15789473684211,73.15789473684211,73.15789473684211,73.15789473684211],[76.3157894736842,76.3157894736842,76.3157894736842,76.3157894736842,76.3157894736842,76.3157894736842,76.3157894736842,76.3157894736842,76.3157894736842,76.3157894736842],[79.47368421052632,79.47368421052632,79.47368421052632,79.47368421052632,79.47368421052632,79.47368421052632,79.47368421052632,79.47368421052632,79.47368421052632,79.47368421052632],[82.63157894736842,82.63157894736842,82.63157894736842,82.63157894736842,82.63157894736842,82.63157894736842,82.63157894736842,82.63157894736842,82.63157894736842,82.63157894736842],[85.78947368421052,85.78947368421052,85.78947368421052,85.78947368421052,85.78947368421052,85.78947368421052,85.78947368421052,85.78947368421052,85.78947368421052,85.78947368421052],[88.94736842105263,88.94736842105263,88.94736842105263,88.94736842105263,88.94736842105263,88.94736842105263,88.94736842105263,88.94736842105263,88.94736842105263,88.94736842105263],[92.10526315789474,92.10526315789474,92.10526315789474,92.10526315789474,92.10526315789474,92.10526315789474,92.10526315789474,92.10526315789474,92.10526315789474,92.10526315789474],[95.26315789473685,95.26315789473685,95.26315789473685,95.26315789473685,95.26315789473685,95.26315789473685,95.26315789473685,95.26315789473685,95.26315789473685,95.26315789473685],[98.42105263157895,98.42105263157895,98.42105263157895,98.42105263157895,98.42105263157895,98.42105263157895,98.42105263157895,98.42105263157895,98.42105263157895,98.42105263157895],[101.57894736842105,101.57894736842105,101.57894736842105,101.57894736842105,101.57894736842105,101.57894736842105,101.57894736842105,101.57894736842105,101.57894736842105,101.57894736842105],[104.73684210526315,104.73684210526315,104.73684210526315,104.73684210526315,104.73684210526315,104.73684210526315,104.73684210526315,104.73684210526315,104.73684210526315,104.73684210526315],[107.89473684210526,107.89473684210526,107.89473684210526,107.89473684210526,107.89473684210526,107.89473684210526,107.89473684210526,107.89473684210526,107.89473684210526,107.89473684210526],[111.05263157894737,111.05263157894737,111.05263157894737,111.05263157894737,111.05263157894737,111.05263157894737,111.05263157894737,111.05263157894737,111.05263157894737,111.05263157894737],[114.21052631578948,114.21052631578948,114.21052631578948,114.21052631578948,114.21052631578948,114.21052631578948,114.21052631578948,114.21052631578948,114.21052631578948,114.21052631578948],[117.36842105263159,117.36842105263159,117.36842105263159,117.36842105263159,117.36842105263159,117.36842105263159,117.36842105263159,117.36842105263159,117.36842105263159,117.36842105263159],[120.52631578947368,120.52631578947368,120.52631578947368,120.52631578947368,120.52631578947368,120.52631578947368,120.52631578947368,120.52631578947368,120.52631578947368,120.52631578947368],[123.68421052631578,123.68421052631578,123.68421052631578,123.68421052631578,123.68421052631578,123.68421052631578,123.68421052631578,123.68421052631578,123.68421052631578,123.68421052631578],[126.84210526315789,126.84210526315789,126.84210526315789,126.84210526315789,126.84210526315789,126.84210526315789,126.84210526315789,126.84210526315789,126.84210526315789,126.84210526315789],[130.0,130.0,130.0,130.0,130.0,130.0,130.0,130.0,130.0,130.0]],\"z\":[[0.18205017496336567,0.19761080345646442,0.2094608327552462,0.21903353477310758,0.22706469448975136,0.2339826161583933,0.24005868404674283,0.24547574123654103,0.2503628554751879,0.2548145365937078],[0.18025516111295015,0.1958157896060489,0.20766581890483068,0.21723852092269205,0.22526968063933583,0.23218760230797778,0.2382636701963273,0.2436807273861255,0.24856784162477236,0.25301952274329226],[0.17865959324591416,0.1942202217390129,0.2060702510377947,0.21564295305565606,0.22367411277229984,0.23059203444094178,0.2366681023292913,0.24208515951908952,0.2469722737577364,0.25142395487625624],[0.17726347136225762,0.19282409985535637,0.20467412915413816,0.21424683117199952,0.2222779908886433,0.22919591255728525,0.23527198044563477,0.24068903763543298,0.24557615187407983,0.25002783299259973],[0.17606679546198062,0.19162742395507937,0.20347745325386116,0.21305015527172252,0.2210813149883663,0.22799923665700825,0.23407530454535777,0.23949236173515598,0.24437947597380283,0.24883115709232273],[0.17506956554508313,0.19063019403818188,0.20248022333696367,0.21205292535482503,0.22008408507146882,0.22700200674011076,0.23307807462846028,0.2384951318182585,0.24338224605690534,0.24783392717542524],[0.17427178161156512,0.18983241010466387,0.20168243940344566,0.21125514142130702,0.2192863011379508,0.22620422280659275,0.23228029069494227,0.23769734788474048,0.24258446212338736,0.24703614324190723],[0.17367344366142662,0.18923407215452537,0.20108410145330716,0.21065680347116852,0.2186879631878123,0.22560588485645425,0.23168195274480377,0.23709900993460198,0.24198612417324883,0.24643780529176873],[0.1732745516946676,0.18883518018776635,0.20068520948654814,0.2102579115044095,0.2182890712210533,0.22520699288969523,0.23128306077804475,0.23670011796784296,0.2415872322064898,0.2460389133250097],[0.1730751057112881,0.18863573420438684,0.20048576350316863,0.21005846552103,0.21808962523767378,0.22500754690631572,0.23108361479466524,0.23650067198446345,0.2413877862231103,0.2458394673416302],[0.1730751057112881,0.18863573420438684,0.20048576350316863,0.21005846552103,0.21808962523767378,0.22500754690631572,0.23108361479466524,0.23650067198446345,0.2413877862231103,0.2458394673416302],[0.1732745516946676,0.18883518018776635,0.20068520948654814,0.2102579115044095,0.2182890712210533,0.22520699288969523,0.23128306077804475,0.23670011796784296,0.2415872322064898,0.2460389133250097],[0.17367344366142662,0.18923407215452537,0.20108410145330716,0.21065680347116852,0.2186879631878123,0.22560588485645425,0.23168195274480377,0.23709900993460198,0.24198612417324883,0.24643780529176873],[0.17427178161156512,0.18983241010466387,0.20168243940344566,0.21125514142130702,0.2192863011379508,0.22620422280659275,0.23228029069494227,0.23769734788474048,0.24258446212338736,0.24703614324190723],[0.17506956554508313,0.19063019403818188,0.20248022333696367,0.21205292535482503,0.22008408507146882,0.22700200674011076,0.23307807462846028,0.2384951318182585,0.24338224605690534,0.24783392717542524],[0.17606679546198062,0.19162742395507937,0.20347745325386116,0.21305015527172252,0.2210813149883663,0.22799923665700825,0.23407530454535777,0.23949236173515598,0.24437947597380283,0.24883115709232273],[0.17726347136225762,0.19282409985535637,0.20467412915413816,0.21424683117199952,0.2222779908886433,0.22919591255728525,0.23527198044563477,0.24068903763543298,0.24557615187407983,0.25002783299259973],[0.17865959324591413,0.19422022173901288,0.20607025103779467,0.21564295305565603,0.22367411277229982,0.23059203444094176,0.23666810232929128,0.2420851595190895,0.24697227375773634,0.25142395487625624],[0.18025516111295015,0.1958157896060489,0.20766581890483068,0.21723852092269205,0.22526968063933583,0.23218760230797778,0.2382636701963273,0.2436807273861255,0.24856784162477236,0.25301952274329226],[0.18205017496336567,0.19761080345646442,0.2094608327552462,0.21903353477310758,0.22706469448975136,0.2339826161583933,0.24005868404674283,0.24547574123654103,0.2503628554751879,0.2548145365937078]],\"type\":\"surface\"}],                        {\"template\":{\"data\":{\"histogram2dcontour\":[{\"type\":\"histogram2dcontour\",\"colorbar\":{\"outlinewidth\":0,\"ticks\":\"\"},\"colorscale\":[[0.0,\"#0d0887\"],[0.1111111111111111,\"#46039f\"],[0.2222222222222222,\"#7201a8\"],[0.3333333333333333,\"#9c179e\"],[0.4444444444444444,\"#bd3786\"],[0.5555555555555556,\"#d8576b\"],[0.6666666666666666,\"#ed7953\"],[0.7777777777777778,\"#fb9f3a\"],[0.8888888888888888,\"#fdca26\"],[1.0,\"#f0f921\"]]}],\"choropleth\":[{\"type\":\"choropleth\",\"colorbar\":{\"outlinewidth\":0,\"ticks\":\"\"}}],\"histogram2d\":[{\"type\":\"histogram2d\",\"colorbar\":{\"outlinewidth\":0,\"ticks\":\"\"},\"colorscale\":[[0.0,\"#0d0887\"],[0.1111111111111111,\"#46039f\"],[0.2222222222222222,\"#7201a8\"],[0.3333333333333333,\"#9c179e\"],[0.4444444444444444,\"#bd3786\"],[0.5555555555555556,\"#d8576b\"],[0.6666666666666666,\"#ed7953\"],[0.7777777777777778,\"#fb9f3a\"],[0.8888888888888888,\"#fdca26\"],[1.0,\"#f0f921\"]]}],\"heatmap\":[{\"type\":\"heatmap\",\"colorbar\":{\"outlinewidth\":0,\"ticks\":\"\"},\"colorscale\":[[0.0,\"#0d0887\"],[0.1111111111111111,\"#46039f\"],[0.2222222222222222,\"#7201a8\"],[0.3333333333333333,\"#9c179e\"],[0.4444444444444444,\"#bd3786\"],[0.5555555555555556,\"#d8576b\"],[0.6666666666666666,\"#ed7953\"],[0.7777777777777778,\"#fb9f3a\"],[0.8888888888888888,\"#fdca26\"],[1.0,\"#f0f921\"]]}],\"heatmapgl\":[{\"type\":\"heatmapgl\",\"colorbar\":{\"outlinewidth\":0,\"ticks\":\"\"},\"colorscale\":[[0.0,\"#0d0887\"],[0.1111111111111111,\"#46039f\"],[0.2222222222222222,\"#7201a8\"],[0.3333333333333333,\"#9c179e\"],[0.4444444444444444,\"#bd3786\"],[0.5555555555555556,\"#d8576b\"],[0.6666666666666666,\"#ed7953\"],[0.7777777777777778,\"#fb9f3a\"],[0.8888888888888888,\"#fdca26\"],[1.0,\"#f0f921\"]]}],\"contourcarpet\":[{\"type\":\"contourcarpet\",\"colorbar\":{\"outlinewidth\":0,\"ticks\":\"\"}}],\"contour\":[{\"type\":\"contour\",\"colorbar\":{\"outlinewidth\":0,\"ticks\":\"\"},\"colorscale\":[[0.0,\"#0d0887\"],[0.1111111111111111,\"#46039f\"],[0.2222222222222222,\"#7201a8\"],[0.3333333333333333,\"#9c179e\"],[0.4444444444444444,\"#bd3786\"],[0.5555555555555556,\"#d8576b\"],[0.6666666666666666,\"#ed7953\"],[0.7777777777777778,\"#fb9f3a\"],[0.8888888888888888,\"#fdca26\"],[1.0,\"#f0f921\"]]}],\"surface\":[{\"type\":\"surface\",\"colorbar\":{\"outlinewidth\":0,\"ticks\":\"\"},\"colorscale\":[[0.0,\"#0d0887\"],[0.1111111111111111,\"#46039f\"],[0.2222222222222222,\"#7201a8\"],[0.3333333333333333,\"#9c179e\"],[0.4444444444444444,\"#bd3786\"],[0.5555555555555556,\"#d8576b\"],[0.6666666666666666,\"#ed7953\"],[0.7777777777777778,\"#fb9f3a\"],[0.8888888888888888,\"#fdca26\"],[1.0,\"#f0f921\"]]}],\"mesh3d\":[{\"type\":\"mesh3d\",\"colorbar\":{\"outlinewidth\":0,\"ticks\":\"\"}}],\"scatter\":[{\"fillpattern\":{\"fillmode\":\"overlay\",\"size\":10,\"solidity\":0.2},\"type\":\"scatter\"}],\"parcoords\":[{\"type\":\"parcoords\",\"line\":{\"colorbar\":{\"outlinewidth\":0,\"ticks\":\"\"}}}],\"scatterpolargl\":[{\"type\":\"scatterpolargl\",\"marker\":{\"colorbar\":{\"outlinewidth\":0,\"ticks\":\"\"}}}],\"bar\":[{\"error_x\":{\"color\":\"#2a3f5f\"},\"error_y\":{\"color\":\"#2a3f5f\"},\"marker\":{\"line\":{\"color\":\"#E5ECF6\",\"width\":0.5},\"pattern\":{\"fillmode\":\"overlay\",\"size\":10,\"solidity\":0.2}},\"type\":\"bar\"}],\"scattergeo\":[{\"type\":\"scattergeo\",\"marker\":{\"colorbar\":{\"outlinewidth\":0,\"ticks\":\"\"}}}],\"scatterpolar\":[{\"type\":\"scatterpolar\",\"marker\":{\"colorbar\":{\"outlinewidth\":0,\"ticks\":\"\"}}}],\"histogram\":[{\"marker\":{\"pattern\":{\"fillmode\":\"overlay\",\"size\":10,\"solidity\":0.2}},\"type\":\"histogram\"}],\"scattergl\":[{\"type\":\"scattergl\",\"marker\":{\"colorbar\":{\"outlinewidth\":0,\"ticks\":\"\"}}}],\"scatter3d\":[{\"type\":\"scatter3d\",\"line\":{\"colorbar\":{\"outlinewidth\":0,\"ticks\":\"\"}},\"marker\":{\"colorbar\":{\"outlinewidth\":0,\"ticks\":\"\"}}}],\"scattermapbox\":[{\"type\":\"scattermapbox\",\"marker\":{\"colorbar\":{\"outlinewidth\":0,\"ticks\":\"\"}}}],\"scatterternary\":[{\"type\":\"scatterternary\",\"marker\":{\"colorbar\":{\"outlinewidth\":0,\"ticks\":\"\"}}}],\"scattercarpet\":[{\"type\":\"scattercarpet\",\"marker\":{\"colorbar\":{\"outlinewidth\":0,\"ticks\":\"\"}}}],\"carpet\":[{\"aaxis\":{\"endlinecolor\":\"#2a3f5f\",\"gridcolor\":\"white\",\"linecolor\":\"white\",\"minorgridcolor\":\"white\",\"startlinecolor\":\"#2a3f5f\"},\"baxis\":{\"endlinecolor\":\"#2a3f5f\",\"gridcolor\":\"white\",\"linecolor\":\"white\",\"minorgridcolor\":\"white\",\"startlinecolor\":\"#2a3f5f\"},\"type\":\"carpet\"}],\"table\":[{\"cells\":{\"fill\":{\"color\":\"#EBF0F8\"},\"line\":{\"color\":\"white\"}},\"header\":{\"fill\":{\"color\":\"#C8D4E3\"},\"line\":{\"color\":\"white\"}},\"type\":\"table\"}],\"barpolar\":[{\"marker\":{\"line\":{\"color\":\"#E5ECF6\",\"width\":0.5},\"pattern\":{\"fillmode\":\"overlay\",\"size\":10,\"solidity\":0.2}},\"type\":\"barpolar\"}],\"pie\":[{\"automargin\":true,\"type\":\"pie\"}]},\"layout\":{\"autotypenumbers\":\"strict\",\"colorway\":[\"#636efa\",\"#EF553B\",\"#00cc96\",\"#ab63fa\",\"#FFA15A\",\"#19d3f3\",\"#FF6692\",\"#B6E880\",\"#FF97FF\",\"#FECB52\"],\"font\":{\"color\":\"#2a3f5f\"},\"hovermode\":\"closest\",\"hoverlabel\":{\"align\":\"left\"},\"paper_bgcolor\":\"white\",\"plot_bgcolor\":\"#E5ECF6\",\"polar\":{\"bgcolor\":\"#E5ECF6\",\"angularaxis\":{\"gridcolor\":\"white\",\"linecolor\":\"white\",\"ticks\":\"\"},\"radialaxis\":{\"gridcolor\":\"white\",\"linecolor\":\"white\",\"ticks\":\"\"}},\"ternary\":{\"bgcolor\":\"#E5ECF6\",\"aaxis\":{\"gridcolor\":\"white\",\"linecolor\":\"white\",\"ticks\":\"\"},\"baxis\":{\"gridcolor\":\"white\",\"linecolor\":\"white\",\"ticks\":\"\"},\"caxis\":{\"gridcolor\":\"white\",\"linecolor\":\"white\",\"ticks\":\"\"}},\"coloraxis\":{\"colorbar\":{\"outlinewidth\":0,\"ticks\":\"\"}},\"colorscale\":{\"sequential\":[[0.0,\"#0d0887\"],[0.1111111111111111,\"#46039f\"],[0.2222222222222222,\"#7201a8\"],[0.3333333333333333,\"#9c179e\"],[0.4444444444444444,\"#bd3786\"],[0.5555555555555556,\"#d8576b\"],[0.6666666666666666,\"#ed7953\"],[0.7777777777777778,\"#fb9f3a\"],[0.8888888888888888,\"#fdca26\"],[1.0,\"#f0f921\"]],\"sequentialminus\":[[0.0,\"#0d0887\"],[0.1111111111111111,\"#46039f\"],[0.2222222222222222,\"#7201a8\"],[0.3333333333333333,\"#9c179e\"],[0.4444444444444444,\"#bd3786\"],[0.5555555555555556,\"#d8576b\"],[0.6666666666666666,\"#ed7953\"],[0.7777777777777778,\"#fb9f3a\"],[0.8888888888888888,\"#fdca26\"],[1.0,\"#f0f921\"]],\"diverging\":[[0,\"#8e0152\"],[0.1,\"#c51b7d\"],[0.2,\"#de77ae\"],[0.3,\"#f1b6da\"],[0.4,\"#fde0ef\"],[0.5,\"#f7f7f7\"],[0.6,\"#e6f5d0\"],[0.7,\"#b8e186\"],[0.8,\"#7fbc41\"],[0.9,\"#4d9221\"],[1,\"#276419\"]]},\"xaxis\":{\"gridcolor\":\"white\",\"linecolor\":\"white\",\"ticks\":\"\",\"title\":{\"standoff\":15},\"zerolinecolor\":\"white\",\"automargin\":true,\"zerolinewidth\":2},\"yaxis\":{\"gridcolor\":\"white\",\"linecolor\":\"white\",\"ticks\":\"\",\"title\":{\"standoff\":15},\"zerolinecolor\":\"white\",\"automargin\":true,\"zerolinewidth\":2},\"scene\":{\"xaxis\":{\"backgroundcolor\":\"#E5ECF6\",\"gridcolor\":\"white\",\"linecolor\":\"white\",\"showbackground\":true,\"ticks\":\"\",\"zerolinecolor\":\"white\",\"gridwidth\":2},\"yaxis\":{\"backgroundcolor\":\"#E5ECF6\",\"gridcolor\":\"white\",\"linecolor\":\"white\",\"showbackground\":true,\"ticks\":\"\",\"zerolinecolor\":\"white\",\"gridwidth\":2},\"zaxis\":{\"backgroundcolor\":\"#E5ECF6\",\"gridcolor\":\"white\",\"linecolor\":\"white\",\"showbackground\":true,\"ticks\":\"\",\"zerolinecolor\":\"white\",\"gridwidth\":2}},\"shapedefaults\":{\"line\":{\"color\":\"#2a3f5f\"}},\"annotationdefaults\":{\"arrowcolor\":\"#2a3f5f\",\"arrowhead\":0,\"arrowwidth\":1},\"geo\":{\"bgcolor\":\"white\",\"landcolor\":\"#E5ECF6\",\"subunitcolor\":\"white\",\"showland\":true,\"showlakes\":true,\"lakecolor\":\"white\"},\"title\":{\"x\":0.05},\"mapbox\":{\"style\":\"light\"}}},\"title\":{\"text\":\"Implied Volatility Surface\"},\"scene\":{\"xaxis\":{\"title\":{\"text\":\"Tenor (Years)\"}},\"yaxis\":{\"title\":{\"text\":\"Strike\"}},\"zaxis\":{\"title\":{\"text\":\"Implied Volatility\"}}},\"width\":800,\"height\":800},                        {\"responsive\": true}                    )                };                            </script>        </div>"
      ],
      "text/plain": [
       "Figure({\n",
       "    'data': [{'type': 'surface',\n",
       "              'x': array([[0.08333333, 0.2962963 , 0.50925926, 0.72222222, 0.93518519,\n",
       "                           1.14814815, 1.36111111, 1.57407407, 1.78703704, 2.        ],\n",
       "                          [0.08333333, 0.2962963 , 0.50925926, 0.72222222, 0.93518519,\n",
       "                           1.14814815, 1.36111111, 1.57407407, 1.78703704, 2.        ],\n",
       "                          [0.08333333, 0.2962963 , 0.50925926, 0.72222222, 0.93518519,\n",
       "                           1.14814815, 1.36111111, 1.57407407, 1.78703704, 2.        ],\n",
       "                          [0.08333333, 0.2962963 , 0.50925926, 0.72222222, 0.93518519,\n",
       "                           1.14814815, 1.36111111, 1.57407407, 1.78703704, 2.        ],\n",
       "                          [0.08333333, 0.2962963 , 0.50925926, 0.72222222, 0.93518519,\n",
       "                           1.14814815, 1.36111111, 1.57407407, 1.78703704, 2.        ],\n",
       "                          [0.08333333, 0.2962963 , 0.50925926, 0.72222222, 0.93518519,\n",
       "                           1.14814815, 1.36111111, 1.57407407, 1.78703704, 2.        ],\n",
       "                          [0.08333333, 0.2962963 , 0.50925926, 0.72222222, 0.93518519,\n",
       "                           1.14814815, 1.36111111, 1.57407407, 1.78703704, 2.        ],\n",
       "                          [0.08333333, 0.2962963 , 0.50925926, 0.72222222, 0.93518519,\n",
       "                           1.14814815, 1.36111111, 1.57407407, 1.78703704, 2.        ],\n",
       "                          [0.08333333, 0.2962963 , 0.50925926, 0.72222222, 0.93518519,\n",
       "                           1.14814815, 1.36111111, 1.57407407, 1.78703704, 2.        ],\n",
       "                          [0.08333333, 0.2962963 , 0.50925926, 0.72222222, 0.93518519,\n",
       "                           1.14814815, 1.36111111, 1.57407407, 1.78703704, 2.        ],\n",
       "                          [0.08333333, 0.2962963 , 0.50925926, 0.72222222, 0.93518519,\n",
       "                           1.14814815, 1.36111111, 1.57407407, 1.78703704, 2.        ],\n",
       "                          [0.08333333, 0.2962963 , 0.50925926, 0.72222222, 0.93518519,\n",
       "                           1.14814815, 1.36111111, 1.57407407, 1.78703704, 2.        ],\n",
       "                          [0.08333333, 0.2962963 , 0.50925926, 0.72222222, 0.93518519,\n",
       "                           1.14814815, 1.36111111, 1.57407407, 1.78703704, 2.        ],\n",
       "                          [0.08333333, 0.2962963 , 0.50925926, 0.72222222, 0.93518519,\n",
       "                           1.14814815, 1.36111111, 1.57407407, 1.78703704, 2.        ],\n",
       "                          [0.08333333, 0.2962963 , 0.50925926, 0.72222222, 0.93518519,\n",
       "                           1.14814815, 1.36111111, 1.57407407, 1.78703704, 2.        ],\n",
       "                          [0.08333333, 0.2962963 , 0.50925926, 0.72222222, 0.93518519,\n",
       "                           1.14814815, 1.36111111, 1.57407407, 1.78703704, 2.        ],\n",
       "                          [0.08333333, 0.2962963 , 0.50925926, 0.72222222, 0.93518519,\n",
       "                           1.14814815, 1.36111111, 1.57407407, 1.78703704, 2.        ],\n",
       "                          [0.08333333, 0.2962963 , 0.50925926, 0.72222222, 0.93518519,\n",
       "                           1.14814815, 1.36111111, 1.57407407, 1.78703704, 2.        ],\n",
       "                          [0.08333333, 0.2962963 , 0.50925926, 0.72222222, 0.93518519,\n",
       "                           1.14814815, 1.36111111, 1.57407407, 1.78703704, 2.        ],\n",
       "                          [0.08333333, 0.2962963 , 0.50925926, 0.72222222, 0.93518519,\n",
       "                           1.14814815, 1.36111111, 1.57407407, 1.78703704, 2.        ]]),\n",
       "              'y': array([[ 70.        ,  70.        ,  70.        ,  70.        ,  70.        ,\n",
       "                            70.        ,  70.        ,  70.        ,  70.        ,  70.        ],\n",
       "                          [ 73.15789474,  73.15789474,  73.15789474,  73.15789474,  73.15789474,\n",
       "                            73.15789474,  73.15789474,  73.15789474,  73.15789474,  73.15789474],\n",
       "                          [ 76.31578947,  76.31578947,  76.31578947,  76.31578947,  76.31578947,\n",
       "                            76.31578947,  76.31578947,  76.31578947,  76.31578947,  76.31578947],\n",
       "                          [ 79.47368421,  79.47368421,  79.47368421,  79.47368421,  79.47368421,\n",
       "                            79.47368421,  79.47368421,  79.47368421,  79.47368421,  79.47368421],\n",
       "                          [ 82.63157895,  82.63157895,  82.63157895,  82.63157895,  82.63157895,\n",
       "                            82.63157895,  82.63157895,  82.63157895,  82.63157895,  82.63157895],\n",
       "                          [ 85.78947368,  85.78947368,  85.78947368,  85.78947368,  85.78947368,\n",
       "                            85.78947368,  85.78947368,  85.78947368,  85.78947368,  85.78947368],\n",
       "                          [ 88.94736842,  88.94736842,  88.94736842,  88.94736842,  88.94736842,\n",
       "                            88.94736842,  88.94736842,  88.94736842,  88.94736842,  88.94736842],\n",
       "                          [ 92.10526316,  92.10526316,  92.10526316,  92.10526316,  92.10526316,\n",
       "                            92.10526316,  92.10526316,  92.10526316,  92.10526316,  92.10526316],\n",
       "                          [ 95.26315789,  95.26315789,  95.26315789,  95.26315789,  95.26315789,\n",
       "                            95.26315789,  95.26315789,  95.26315789,  95.26315789,  95.26315789],\n",
       "                          [ 98.42105263,  98.42105263,  98.42105263,  98.42105263,  98.42105263,\n",
       "                            98.42105263,  98.42105263,  98.42105263,  98.42105263,  98.42105263],\n",
       "                          [101.57894737, 101.57894737, 101.57894737, 101.57894737, 101.57894737,\n",
       "                           101.57894737, 101.57894737, 101.57894737, 101.57894737, 101.57894737],\n",
       "                          [104.73684211, 104.73684211, 104.73684211, 104.73684211, 104.73684211,\n",
       "                           104.73684211, 104.73684211, 104.73684211, 104.73684211, 104.73684211],\n",
       "                          [107.89473684, 107.89473684, 107.89473684, 107.89473684, 107.89473684,\n",
       "                           107.89473684, 107.89473684, 107.89473684, 107.89473684, 107.89473684],\n",
       "                          [111.05263158, 111.05263158, 111.05263158, 111.05263158, 111.05263158,\n",
       "                           111.05263158, 111.05263158, 111.05263158, 111.05263158, 111.05263158],\n",
       "                          [114.21052632, 114.21052632, 114.21052632, 114.21052632, 114.21052632,\n",
       "                           114.21052632, 114.21052632, 114.21052632, 114.21052632, 114.21052632],\n",
       "                          [117.36842105, 117.36842105, 117.36842105, 117.36842105, 117.36842105,\n",
       "                           117.36842105, 117.36842105, 117.36842105, 117.36842105, 117.36842105],\n",
       "                          [120.52631579, 120.52631579, 120.52631579, 120.52631579, 120.52631579,\n",
       "                           120.52631579, 120.52631579, 120.52631579, 120.52631579, 120.52631579],\n",
       "                          [123.68421053, 123.68421053, 123.68421053, 123.68421053, 123.68421053,\n",
       "                           123.68421053, 123.68421053, 123.68421053, 123.68421053, 123.68421053],\n",
       "                          [126.84210526, 126.84210526, 126.84210526, 126.84210526, 126.84210526,\n",
       "                           126.84210526, 126.84210526, 126.84210526, 126.84210526, 126.84210526],\n",
       "                          [130.        , 130.        , 130.        , 130.        , 130.        ,\n",
       "                           130.        , 130.        , 130.        , 130.        , 130.        ]]),\n",
       "              'z': array([[0.18205017, 0.1976108 , 0.20946083, 0.21903353, 0.22706469,\n",
       "                           0.23398262, 0.24005868, 0.24547574, 0.25036286, 0.25481454],\n",
       "                          [0.18025516, 0.19581579, 0.20766582, 0.21723852, 0.22526968,\n",
       "                           0.2321876 , 0.23826367, 0.24368073, 0.24856784, 0.25301952],\n",
       "                          [0.17865959, 0.19422022, 0.20607025, 0.21564295, 0.22367411,\n",
       "                           0.23059203, 0.2366681 , 0.24208516, 0.24697227, 0.25142395],\n",
       "                          [0.17726347, 0.1928241 , 0.20467413, 0.21424683, 0.22227799,\n",
       "                           0.22919591, 0.23527198, 0.24068904, 0.24557615, 0.25002783],\n",
       "                          [0.1760668 , 0.19162742, 0.20347745, 0.21305016, 0.22108131,\n",
       "                           0.22799924, 0.2340753 , 0.23949236, 0.24437948, 0.24883116],\n",
       "                          [0.17506957, 0.19063019, 0.20248022, 0.21205293, 0.22008409,\n",
       "                           0.22700201, 0.23307807, 0.23849513, 0.24338225, 0.24783393],\n",
       "                          [0.17427178, 0.18983241, 0.20168244, 0.21125514, 0.2192863 ,\n",
       "                           0.22620422, 0.23228029, 0.23769735, 0.24258446, 0.24703614],\n",
       "                          [0.17367344, 0.18923407, 0.2010841 , 0.2106568 , 0.21868796,\n",
       "                           0.22560588, 0.23168195, 0.23709901, 0.24198612, 0.24643781],\n",
       "                          [0.17327455, 0.18883518, 0.20068521, 0.21025791, 0.21828907,\n",
       "                           0.22520699, 0.23128306, 0.23670012, 0.24158723, 0.24603891],\n",
       "                          [0.17307511, 0.18863573, 0.20048576, 0.21005847, 0.21808963,\n",
       "                           0.22500755, 0.23108361, 0.23650067, 0.24138779, 0.24583947],\n",
       "                          [0.17307511, 0.18863573, 0.20048576, 0.21005847, 0.21808963,\n",
       "                           0.22500755, 0.23108361, 0.23650067, 0.24138779, 0.24583947],\n",
       "                          [0.17327455, 0.18883518, 0.20068521, 0.21025791, 0.21828907,\n",
       "                           0.22520699, 0.23128306, 0.23670012, 0.24158723, 0.24603891],\n",
       "                          [0.17367344, 0.18923407, 0.2010841 , 0.2106568 , 0.21868796,\n",
       "                           0.22560588, 0.23168195, 0.23709901, 0.24198612, 0.24643781],\n",
       "                          [0.17427178, 0.18983241, 0.20168244, 0.21125514, 0.2192863 ,\n",
       "                           0.22620422, 0.23228029, 0.23769735, 0.24258446, 0.24703614],\n",
       "                          [0.17506957, 0.19063019, 0.20248022, 0.21205293, 0.22008409,\n",
       "                           0.22700201, 0.23307807, 0.23849513, 0.24338225, 0.24783393],\n",
       "                          [0.1760668 , 0.19162742, 0.20347745, 0.21305016, 0.22108131,\n",
       "                           0.22799924, 0.2340753 , 0.23949236, 0.24437948, 0.24883116],\n",
       "                          [0.17726347, 0.1928241 , 0.20467413, 0.21424683, 0.22227799,\n",
       "                           0.22919591, 0.23527198, 0.24068904, 0.24557615, 0.25002783],\n",
       "                          [0.17865959, 0.19422022, 0.20607025, 0.21564295, 0.22367411,\n",
       "                           0.23059203, 0.2366681 , 0.24208516, 0.24697227, 0.25142395],\n",
       "                          [0.18025516, 0.19581579, 0.20766582, 0.21723852, 0.22526968,\n",
       "                           0.2321876 , 0.23826367, 0.24368073, 0.24856784, 0.25301952],\n",
       "                          [0.18205017, 0.1976108 , 0.20946083, 0.21903353, 0.22706469,\n",
       "                           0.23398262, 0.24005868, 0.24547574, 0.25036286, 0.25481454]])}],\n",
       "    'layout': {'height': 800,\n",
       "               'scene': {'xaxis': {'title': {'text': 'Tenor (Years)'}},\n",
       "                         'yaxis': {'title': {'text': 'Strike'}},\n",
       "                         'zaxis': {'title': {'text': 'Implied Volatility'}}},\n",
       "               'template': '...',\n",
       "               'title': {'text': 'Implied Volatility Surface'},\n",
       "               'width': 800}\n",
       "})"
      ]
     },
     "metadata": {},
     "output_type": "display_data"
    },
    {
     "data": {
      "application/vnd.jupyter.widget-view+json": {
       "model_id": "032e6697069a4dc284d67aee25265ada",
       "version_major": 2,
       "version_minor": 0
      },
      "text/plain": [
       "interactive(children=(IntSlider(value=20, continuous_update=False, description='Strikes:', max=50, min=10), In…"
      ]
     },
     "execution_count": 1,
     "metadata": {},
     "output_type": "execute_result"
    }
   ],
   "source": [
    "import numpy as np\n",
    "import pandas as pd\n",
    "import plotly.graph_objects as go\n",
    "from IPython.display import display\n",
    "import ipywidgets as widgets\n",
    "\n",
    "strikes = 0\n",
    "\n",
    "def generate_sample_vol_data(n_strikes=20, n_tenors=10):\n",
    "\n",
    "\n",
    "\n",
    "    spot = 100\n",
    "\n",
    "    ## Generer strikes. 30% over og under spot.\n",
    "    strikes = np.linspace(0.7 * spot, 1.3 * spot, n_strikes)\n",
    "    \n",
    "    # Tenors, alt fra 1/12 (1 måned) til 2 år\n",
    "    tenors = np.linspace(1/12, 2, n_tenors)\n",
    "    \n",
    "\n",
    "\n",
    "    # matrix som består af strikes som kolonner og tenors som rows.\n",
    "\n",
    "    vols = np.zeros((len(strikes), len(tenors)))\n",
    "\n",
    "    print(\"sSSSSS\")\n",
    "    print(vols)\n",
    "\n",
    "\n",
    "\n",
    "\n",
    "    for i, k in enumerate(strikes):\n",
    "        for j, t in enumerate(tenors):\n",
    "            # beregn moneyness, hvor langt er vi fra spot (e.g 0,1 eller 0,2 fra spot)\n",
    "            moneyness = k/spot\n",
    "\n",
    "            \n",
    "            \"\"\" \n",
    "            \n",
    "            Eksempel på nedenstående kode\n",
    "\n",
    "\n",
    "            For en 20% OTM option (moneyness = 1.2) med 1 year to expiry (t = 1):   \n",
    "            smile = 0.2 + 0.1 * (1.2 - 1)**2 = 0.204\n",
    "            term = 0.05 * np.log(1 + 0.5) = 0.02025\n",
    "            vol = 0.204 + 0.02025 = 0.22425 (22.425% volatility) \n",
    "            \n",
    "            \"\"\"\n",
    "\n",
    "            smile = 0.2 + 0.1 * (moneyness - 1)**2\n",
    "            term = 0.05 * np.log(t + 0.5)\n",
    "            vols[i, j] = smile + term\n",
    "            \n",
    "    return strikes, tenors, vols\n",
    "\n",
    "def update_plot(n_strikes, n_tenors):\n",
    "    strikes, tenors, vols = generate_sample_vol_data(n_strikes, n_tenors)\n",
    "\n",
    "\n",
    "\n",
    "    X, Y = np.meshgrid(tenors, strikes)\n",
    "    \n",
    "    fig = go.Figure(data=[go.Surface(x=X, y=Y, z=vols)])\n",
    "    \n",
    "    fig.update_layout(\n",
    "        title='Implied Volatility Surface',\n",
    "        scene = dict(\n",
    "            xaxis_title='Tenor (Years)',\n",
    "            yaxis_title='Strike',\n",
    "            zaxis_title='Implied Volatility'\n",
    "        ),\n",
    "        width=800,\n",
    "        height=800\n",
    "    )\n",
    "    \n",
    "    # vis figuren\n",
    "    display(fig)\n",
    "    \n",
    "    # vis df\n",
    "    df = pd.DataFrame(\n",
    "        vols,\n",
    "        index=[f'Strike: {s:.2f}' for s in strikes],\n",
    "        columns=[f'Tenor: {t:.2f}Y' for t in tenors]\n",
    "    )\n",
    "    display(df)\n",
    "\n",
    "    return strikes\n",
    "\n",
    "# widgets\n",
    "strikes_slider = widgets.IntSlider(\n",
    "    value=20,\n",
    "    min=10,\n",
    "    max=50,\n",
    "    step=1,\n",
    "    description='Strikes:',\n",
    "    continuous_update=False\n",
    ")\n",
    "\n",
    "tenors_slider = widgets.IntSlider(\n",
    "    value=10,\n",
    "    min=5,\n",
    "    max=20,\n",
    "    step=1,\n",
    "    description='Tenors:',\n",
    "    continuous_update=False\n",
    ")\n",
    "\n",
    "#update_plot(20,20)\n",
    "#Create interactive controls\n",
    "widgets.interactive(update_plot, n_strikes=strikes_slider, n_tenors=tenors_slider)\n",
    "\n"
   ]
  }
 ],
 "metadata": {
  "kernelspec": {
   "display_name": "Python 3",
   "language": "python",
   "name": "python3"
  },
  "language_info": {
   "codemirror_mode": {
    "name": "ipython",
    "version": 3
   },
   "file_extension": ".py",
   "mimetype": "text/x-python",
   "name": "python",
   "nbconvert_exporter": "python",
   "pygments_lexer": "ipython3",
   "version": "3.13.1"
  }
 },
 "nbformat": 4,
 "nbformat_minor": 2
}
